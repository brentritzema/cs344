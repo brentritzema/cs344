{
  "nbformat": 4,
  "nbformat_minor": 0,
  "metadata": {
    "colab": {
      "name": "proposal.ipynb",
      "version": "0.3.2",
      "provenance": [],
      "include_colab_link": true
    },
    "kernelspec": {
      "name": "python3",
      "display_name": "Python 3"
    }
  },
  "cells": [
    {
      "cell_type": "markdown",
      "metadata": {
        "id": "view-in-github",
        "colab_type": "text"
      },
      "source": [
        "<a href=\"https://colab.research.google.com/github/brentritzema/cs344/blob/master/project/proposal.ipynb\" target=\"_parent\"><img src=\"https://colab.research.google.com/assets/colab-badge.svg\" alt=\"Open In Colab\"/></a>"
      ]
    },
    {
      "metadata": {
        "id": "LFYwpuLMN-pw",
        "colab_type": "text"
      },
      "cell_type": "markdown",
      "source": [
        "Draft #1 — The preliminary draft will be a two-to-three-paragraph vision statement discussing your domain and your proposed basic technology.\n",
        "\n",
        "Title: Stance Analysis Based on Tweet\n",
        "\n",
        "The system that I will submit will be a deep neural network that takes raw twitter data, processes it, vectorizes it, and then learns the position of the user based on it. So, in these tweets a user would either be for, against, or neutral on some topic. The system will specifically look at Australian mining companies.\n",
        "\n",
        "The system will use Keras for a densely connected network and character n-grams to avoid spelling errors and decrease training times. A grid search will also be used to find a good size for the network both in layer count and in individual layer size. The goal is to create a system that can then take in new tweets and classify them as either for, against, or neutral in regards to their stance on certain companies."
      ]
    }
  ]
}