{
  "nbformat": 4,
  "nbformat_minor": 0,
  "metadata": {
    "colab": {
      "name": "homework4.ipynb",
      "version": "0.3.2",
      "provenance": []
    },
    "kernelspec": {
      "name": "python3",
      "display_name": "Python 3"
    }
  },
  "cells": [
    {
      "metadata": {
        "id": "JCNjIhyJIBdt",
        "colab_type": "text"
      },
      "cell_type": "markdown",
      "source": [
        "Part 1"
      ]
    },
    {
      "metadata": {
        "id": "aRRe7oRlCRJN",
        "colab_type": "text"
      },
      "cell_type": "markdown",
      "source": [
        "I believe deep neural networks are a breakthrough that will be used years in the future, however I don't think they can solve some of the more complex problems that can't be reduced to statistics. It will probably be used for years to come because it has already been shown that it can quickly recognize different things and different patterns. This can probably get it very far. For example, self driving cars and game playing AIs are just the start of the type of problems it can solve.\n",
        "\n",
        "However, I believe the model has its limits. It can only learn from previous examples which tell it how to learn, in supervised learning, but it can't extrapolate much further than that. Even with unsupervised learning it can only go as far as the data it's seen and can only accomplish very specific goals. My point is, supervised or unsupervised, networks usually have narrowly defined goals (winning a game, not hitting a car in front of it, staying between lines while driving, etc). However, some of the greatest work to be done is on frontiers where goals are unclear, so I'm not sure if deep neural nets can be abstracted enough to infer it's own goals and whether or not those goals are worthy. Sure, a collection of smaller goals can solve a larger more abstract problem, but human still need to choose the goals and even the ultimate goal the subgoals are being guided towards."
      ]
    },
    {
      "metadata": {
        "id": "8OhntKo-8QI4",
        "colab_type": "text"
      },
      "cell_type": "markdown",
      "source": [
        "  Part 2, this is heavily based on the class example (most is copied and pasted).\n",
        "  \n",
        "  $\\begin{aligned}\n",
        "    &\\begin{bmatrix}\n",
        "    w_{i_1,h_1} & w_{i_1,h_2} \\\\\n",
        "    w_{i_2,h_1} & w_{i_2,h_2}\n",
        "    \\end{bmatrix}\n",
        "    \\leftarrow\n",
        "    \\begin{bmatrix}\n",
        "    0.11 & 0.12 \\\\\n",
        "    0.21 & 0.08\n",
        "    \\end{bmatrix} \\\\\n",
        "    &\\begin{bmatrix}\n",
        "    w_{h_1, o_1} \\\\ \n",
        "    w_{h_2, o_1} \n",
        "    \\end{bmatrix}\n",
        "    \\leftarrow\n",
        "    \\begin{bmatrix}\n",
        "    0.14 \\\\\n",
        "    0.15\n",
        "    \\end{bmatrix}\n",
        "    \\end{aligned}$\n",
        "    \n",
        "2. Compute the output for one sample (XOR: `[1, 1]` &rarr; `0`).\n",
        "\n",
        "    $\\begin{aligned}\n",
        "    o_j &= \n",
        "    \\begin{bmatrix}\n",
        "    1 & 1 \\\\ \n",
        "    \\end{bmatrix}\n",
        "    \\cdot\n",
        "    \\begin{bmatrix}\n",
        "    0.11 & 0.12 \\\\\n",
        "    0.21 & 0.08\n",
        "    \\end{bmatrix}\n",
        "    \\cdot\n",
        "    \\begin{bmatrix}\n",
        "    0.14 \\\\\n",
        "    0.15\n",
        "    \\end{bmatrix}\n",
        "    \\\\ &=\n",
        "    \\begin{bmatrix}\n",
        "    1 * 0.11 + 1 * 0.21 & 1 * 0.12 + 1 * 0.08\n",
        "    \\end{bmatrix}\n",
        "    \\cdot\n",
        "    \\begin{bmatrix}\n",
        "    0.14 \\\\ \n",
        "    0.15\n",
        "    \\end{bmatrix}\n",
        "    \\\\ &=\n",
        "    \\begin{bmatrix}\n",
        "    0.32 & 0.20\n",
        "    \\end{bmatrix}\n",
        "    \\cdot\n",
        "    \\begin{bmatrix}\n",
        "    0.14 \\\\ \n",
        "    0.15 \n",
        "    \\end{bmatrix}\n",
        "    \\\\ &=\n",
        "    \\begin{bmatrix}\n",
        "    0.32 * 0.14 + 0.20 * 0.15\n",
        "    \\end{bmatrix}\n",
        "    \\\\ &= 0.0748 \n",
        "    \\end{aligned}\n",
        "    \\\\\n",
        "    $\n",
        "\n",
        "3. Compute the error (and more importantly, the delta).\n",
        "\n",
        "    $\\begin{aligned}\n",
        "    L_2Error &= (0 - 0.0748)^2 \\\\\n",
        "    &= 0.0056 \\\\\n",
        "    \\Delta_{o_1} &= (0 - 0.0748) \\\\\n",
        "    &= -0.0748 \\\\\n",
        "    \\end{aligned}$\n",
        "\n",
        "4. Backpropagate updates back through the network, assuming: \n",
        "    $learning\\_rate = 0.05$; \n",
        "    identity activation functions for all nodes.\n",
        "     \n",
        "    $\\begin{aligned}\n",
        "    \\begin{bmatrix}\n",
        "    w_{h_1, o_1} \\\\ \n",
        "    w_{h_2, o_1}\n",
        "    \\end{bmatrix} &\\leftarrow \n",
        "    \\begin{bmatrix}\n",
        "    0.14 \\\\ \n",
        "    0.15 \n",
        "    \\end{bmatrix} + 0.05 \\cdot \n",
        "    \\begin{bmatrix}\n",
        "    0.32 \\\\ \n",
        "    0.20 \n",
        "    \\end{bmatrix} \\cdot 1.0 \\cdot -0.0748 \\\\\\\\\n",
        "    &= \n",
        "    \\begin{bmatrix}\n",
        "    0.14 \\\\ \n",
        "    0.15 \n",
        "    \\end{bmatrix} + \n",
        "    \\begin{bmatrix}\n",
        "    0.05 * 0.32 * 1.0 * -0.0748 \\\\\n",
        "    0.05 * 0.20 * 1.0 * -0.0748 \n",
        "    \\end{bmatrix} \\\\\n",
        "    &= \n",
        "    \\begin{bmatrix}\n",
        "    0.14 \\\\ \n",
        "    0.15 \n",
        "    \\end{bmatrix} +\n",
        "    \\begin{bmatrix}\n",
        "    -0.0011968 \\\\\n",
        "    -0.000748 \n",
        "    \\end{bmatrix} \\\\\n",
        "    &=\n",
        "    \\begin{bmatrix}\n",
        "    0.1388 \\\\ \n",
        "    0.1493\n",
        "    \\end{bmatrix}\n",
        "    \\end{aligned}$\n",
        "\n",
        "    $\\begin{aligned}\n",
        "    \\begin{bmatrix}\n",
        "    w_{i_1,h_1} & w_{i_1,h_2} \\\\ \n",
        "    w_{i_2,h_1} & w_{i_2,h_2}\n",
        "    \\end{bmatrix} &\\leftarrow \n",
        "    \\begin{bmatrix}\n",
        "    0.11 & 0.12 \\\\\n",
        "    0.21 & 0.08\n",
        "    \\end{bmatrix} + 0.05 \\cdot\n",
        "    \\begin{bmatrix}\n",
        "    1 & 1 \\\\ \n",
        "    1 & 1\n",
        "    \\end{bmatrix} \\cdot 1.0 \\odot\n",
        "    \\begin{bmatrix}\n",
        "    0.14 & 0.15 \\\\ \n",
        "    0.14 & 0.15\n",
        "    \\end{bmatrix} \\cdot -0.0748 \\\\ &=\n",
        "    \\begin{bmatrix}\n",
        "    0.11 & 0.12 \\\\\n",
        "    0.21 & 0.08\n",
        "    \\end{bmatrix} + \n",
        "    \\begin{bmatrix}\n",
        "    0.05 * 1 * 1.0 & 0.05 * 1 * 1.0 \\\\ \n",
        "    0.05 * 1 * 1.0 & 0.05 * 1 * 1.0 \\\\ \n",
        "    \\end{bmatrix} \\odot \n",
        "    \\begin{bmatrix}\n",
        "    0.14 * -0.0748 & 0.15 * -0.0748\\\\ \n",
        "    0.14 * -0.0748 & 0.15 * -0.0748 \n",
        "    \\end{bmatrix} \\\\ &=\n",
        "    \\begin{bmatrix}\n",
        "    0.11 & 0.12 \\\\\n",
        "    0.21 & 0.08\n",
        "    \\end{bmatrix} + \n",
        "    \\begin{bmatrix}\n",
        "    0.05 & 0.05 \\\\ \n",
        "    0.05 & 0.05 \n",
        "    \\end{bmatrix} \\odot \n",
        "    \\begin{bmatrix}\n",
        "    -0.010472 & -0.01122 \\\\\n",
        "    -0.010472 & -0.01122\n",
        "    \\end{bmatrix} \\\\ &=\n",
        "    \\begin{bmatrix}\n",
        "    0.11 & 0.12 \\\\\n",
        "    0.21 & 0.08\n",
        "    \\end{bmatrix} + \n",
        "    \\begin{bmatrix}\n",
        "    0.05 * -0.010472 & 0.05 *  -0.01122 \\\\\n",
        "    0.05 * -0.010472 & 0.05 * -0.01122\n",
        "    \\end{bmatrix} \\\\ &=\n",
        "    \\begin{bmatrix}\n",
        "    0.11 & 0.12 \\\\\n",
        "    0.21 & 0.08\n",
        "    \\end{bmatrix} +     \n",
        "    \\begin{bmatrix}\n",
        "    -0.0005236 & -0.000561 \\\\\n",
        "    -0.0005236 & -0.000561\n",
        "    \\end{bmatrix} \\\\ &= \n",
        "    \\begin{bmatrix}\n",
        "    0.1095 & 0.1194 \\\\\n",
        "    0.2095 & 0.0794\n",
        "    \\end{bmatrix}  \n",
        "    \\end{aligned}$\n"
      ]
    },
    {
      "metadata": {
        "id": "A9_A4TmfH8sf",
        "colab_type": "text"
      },
      "cell_type": "markdown",
      "source": [
        "Part 3"
      ]
    },
    {
      "metadata": {
        "id": "3IJae_00CNGd",
        "colab_type": "code",
        "colab": {}
      },
      "cell_type": "code",
      "source": [
        "from keras.datasets import fashion_mnist\n",
        "(train_images, train_labels), (test_images, test_labels) = fashion_mnist.load_data()"
      ],
      "execution_count": 0,
      "outputs": []
    },
    {
      "metadata": {
        "id": "quSNvv7QGJVO",
        "colab_type": "code",
        "outputId": "73e30808-a5c6-4fae-e8c9-18871f3bbadf",
        "colab": {
          "base_uri": "https://localhost:8080/",
          "height": 488
        }
      },
      "cell_type": "code",
      "source": [
        "print(\n",
        "    f'training images \\\n",
        "        \\n\\tcount: {len(train_labels)} \\\n",
        "        \\n\\tshape: {train_images.shape} \\\n",
        "        \\n\\timage data type: {train_images.dtype} \\\n",
        "        \\n\\tlabel data type: {train_labels.dtype}\\n',\n",
        "    f'testing images \\\n",
        "        \\n\\tcount: {len(test_labels)} \\\n",
        "        \\n\\tshape: {test_images.shape}\\n',\n",
        "    f'example: \\\n",
        "        \\n\\tpixel value: {train_images[0,5,20]} \\\n",
        "        \\n\\tlabel value: {train_labels[0]}\\n',\n",
        "    'example image:'\n",
        ")\n",
        "\n",
        "import matplotlib.pyplot as plt\n",
        "%matplotlib inline\n",
        "\n",
        "digit_image = train_images[0]\n",
        "plt.imshow(digit_image, cmap=plt.cm.binary)"
      ],
      "execution_count": 0,
      "outputs": [
        {
          "output_type": "stream",
          "text": [
            "training images         \n",
            "\tcount: 60000         \n",
            "\tshape: (60000, 28, 28)         \n",
            "\timage data type: uint8         \n",
            "\tlabel data type: uint8\n",
            " testing images         \n",
            "\tcount: 10000         \n",
            "\tshape: (10000, 28, 28)\n",
            " example:         \n",
            "\tpixel value: 23         \n",
            "\tlabel value: 9\n",
            " example image:\n"
          ],
          "name": "stdout"
        },
        {
          "output_type": "execute_result",
          "data": {
            "text/plain": [
              "<matplotlib.image.AxesImage at 0x7fe3513d54e0>"
            ]
          },
          "metadata": {
            "tags": []
          },
          "execution_count": 11
        },
        {
          "output_type": "display_data",
          "data": {
            "image/png": "[encoded data removed]",
            "text/plain": [
              "<Figure size 432x288 with 1 Axes>"
            ]
          },
          "metadata": {
            "tags": []
          }
        }
      ]
    },
    {
      "metadata": {
        "id": "3m90OXEiGYq4",
        "colab_type": "code",
        "colab": {}
      },
      "cell_type": "code",
      "source": [
        "from keras.utils import to_categorical\n",
        "\n",
        "train_images = train_images.reshape((60000, 28, 28, 1))\n",
        "train_images = train_images.astype('float32') / 255\n",
        "\n",
        "test_images = test_images.reshape((10000, 28, 28, 1))\n",
        "test_images = test_images.astype('float32') / 255\n",
        "\n",
        "train_labels = to_categorical(train_labels)\n",
        "test_labels = to_categorical(test_labels)"
      ],
      "execution_count": 0,
      "outputs": []
    },
    {
      "metadata": {
        "id": "yo_ySpzNGkIm",
        "colab_type": "code",
        "outputId": "3e2e979a-c277-4c77-a0c1-adff7e7e8e70",
        "colab": {
          "base_uri": "https://localhost:8080/",
          "height": 480
        }
      },
      "cell_type": "code",
      "source": [
        "from keras import layers\n",
        "from keras import models\n",
        "\n",
        "model = models.Sequential()\n",
        "\n",
        "# Configure a convnet with 3 layers of convolutions and max pooling.\n",
        "model.add(layers.Conv2D(32, (3, 3), activation='relu', input_shape=(28, 28, 1)))\n",
        "model.add(layers.MaxPooling2D((2, 2)))\n",
        "model.add(layers.Dropout(0.1))\n",
        "model.add(layers.Conv2D(64, (3, 3), activation='relu'))\n",
        "model.add(layers.MaxPooling2D((2, 2)))\n",
        "model.add(layers.Dropout(0.2))\n",
        "model.add(layers.Conv2D(64, (3, 3), activation='relu'))\n",
        "\n",
        "\n",
        "# Add layers to flatten the 2D image and then do a 10-way classification.\n",
        "model.add(layers.Flatten())\n",
        "model.add(layers.Dense(64, activation='relu'))\n",
        "model.add(layers.Dense(10, activation='softmax'))\n",
        "\n",
        "model.summary()"
      ],
      "execution_count": 0,
      "outputs": [
        {
          "output_type": "stream",
          "text": [
            "_________________________________________________________________\n",
            "Layer (type)                 Output Shape              Param #   \n",
            "=================================================================\n",
            "conv2d_7 (Conv2D)            (None, 26, 26, 32)        320       \n",
            "_________________________________________________________________\n",
            "max_pooling2d_5 (MaxPooling2 (None, 13, 13, 32)        0         \n",
            "_________________________________________________________________\n",
            "dropout_5 (Dropout)          (None, 13, 13, 32)        0         \n",
            "_________________________________________________________________\n",
            "conv2d_8 (Conv2D)            (None, 11, 11, 64)        18496     \n",
            "_________________________________________________________________\n",
            "max_pooling2d_6 (MaxPooling2 (None, 5, 5, 64)          0         \n",
            "_________________________________________________________________\n",
            "dropout_6 (Dropout)          (None, 5, 5, 64)          0         \n",
            "_________________________________________________________________\n",
            "conv2d_9 (Conv2D)            (None, 3, 3, 64)          36928     \n",
            "_________________________________________________________________\n",
            "flatten_3 (Flatten)          (None, 576)               0         \n",
            "_________________________________________________________________\n",
            "dense_5 (Dense)              (None, 64)                36928     \n",
            "_________________________________________________________________\n",
            "dense_6 (Dense)              (None, 10)                650       \n",
            "=================================================================\n",
            "Total params: 93,322\n",
            "Trainable params: 93,322\n",
            "Non-trainable params: 0\n",
            "_________________________________________________________________\n"
          ],
          "name": "stdout"
        }
      ]
    },
    {
      "metadata": {
        "id": "Sat5heiVGmIX",
        "colab_type": "code",
        "outputId": "8cce59e1-90a1-4350-d85c-7ed64fcea804",
        "colab": {
          "base_uri": "https://localhost:8080/",
          "height": 394
        }
      },
      "cell_type": "code",
      "source": [
        "model.compile(optimizer='rmsprop',\n",
        "              loss='categorical_crossentropy',\n",
        "              metrics=['accuracy'])\n",
        "model.fit(train_images, train_labels, epochs=10, batch_size=64)\n",
        "model.evaluate(test_images, test_labels)"
      ],
      "execution_count": 0,
      "outputs": [
        {
          "output_type": "stream",
          "text": [
            "Epoch 1/10\n",
            "60000/60000 [==============================] - 65s 1ms/step - loss: 0.5785 - acc: 0.7866\n",
            "Epoch 2/10\n",
            "60000/60000 [==============================] - 65s 1ms/step - loss: 0.3609 - acc: 0.8684\n",
            "Epoch 3/10\n",
            "60000/60000 [==============================] - 64s 1ms/step - loss: 0.3092 - acc: 0.8857\n",
            "Epoch 4/10\n",
            "60000/60000 [==============================] - 64s 1ms/step - loss: 0.2781 - acc: 0.8982\n",
            "Epoch 5/10\n",
            "60000/60000 [==============================] - 64s 1ms/step - loss: 0.2600 - acc: 0.9049\n",
            "Epoch 6/10\n",
            "60000/60000 [==============================] - 64s 1ms/step - loss: 0.2461 - acc: 0.9098\n",
            "Epoch 7/10\n",
            "60000/60000 [==============================] - 65s 1ms/step - loss: 0.2318 - acc: 0.9149\n",
            "Epoch 8/10\n",
            "60000/60000 [==============================] - 65s 1ms/step - loss: 0.2240 - acc: 0.9177\n",
            "Epoch 9/10\n",
            "60000/60000 [==============================] - 65s 1ms/step - loss: 0.2157 - acc: 0.9200\n",
            "Epoch 10/10\n",
            "60000/60000 [==============================] - 65s 1ms/step - loss: 0.2116 - acc: 0.9216\n",
            "10000/10000 [==============================] - 3s 347us/step\n"
          ],
          "name": "stdout"
        },
        {
          "output_type": "execute_result",
          "data": {
            "text/plain": [
              "[0.2634700183570385, 0.9078]"
            ]
          },
          "metadata": {
            "tags": []
          },
          "execution_count": 14
        }
      ]
    }
  ]
}