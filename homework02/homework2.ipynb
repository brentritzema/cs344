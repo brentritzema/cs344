{
 "cells": [
  {
   "cell_type": "heading",
   "metadata": {
    "collapsed": true
   },
   "level": 1,
   "source": [
    "Problem 1: Build a spam filter"
   ]
  },
  {
   "cell_type": "heading",
   "metadata": {},
   "level": 1,
   "source": [
    "Here are the two datasets I will use to create my probability table:"
   ]
  },
  {
   "cell_type": "code",
   "execution_count": 4,
   "metadata": {},
   "outputs": [],
   "source": [
    "spam_corpus = [[\"i\", \"am\", \"spam\", \"spam\", \"i\", \"am\"], [\"i\", \"do\", \"not\", \"like\", \"that\", \"spamiam\"]]\n",
    "ham_corpus = [[\"do\", \"i\", \"like\", \"green\", \"eggs\", \"and\", \"ham\"], [\"i\", \"do\"]]\n",
    "\n",
    "# Number of spam messages and number of good messages\n",
    "nbad = len(spam_corpus)\n",
    "ngood = len(ham_corpus)"
   ]
  },
  {
   "cell_type": "heading",
   "metadata": {},
   "level": 1,
   "source": [
    "Before I create my probability table I will need to count occurances of each word:"
   ]
  },
  {
   "cell_type": "code",
   "execution_count": 3,
   "metadata": {},
   "outputs": [],
   "source": [
    "spam_word_count = {}\n",
    "ham_word_count = {}\n",
    "\n",
    "for message in spam_corpus:\n",
    "    for word in message:\n",
    "        if word in spam_word_count:\n",
    "            spam_word_count[word] += 1 \n",
    "        else:\n",
    "            spam_word_count[word] = 1\n",
    "        \n",
    "for message in ham_corpus:\n",
    "    for word in message:\n",
    "        if word in ham_word_count:\n",
    "            ham_word_count[word] += 1 \n",
    "        else:\n",
    "            ham_word_count[word] = 1"
   ]
  },
  {
   "cell_type": "heading",
   "metadata": {},
   "level": 1,
   "source": [
    "Here I create my probability table with (key, value) = (word, probability \"word\" is spam)"
   ]
  },
  {
   "cell_type": "code",
   "execution_count": 15,
   "metadata": {},
   "outputs": [],
   "source": [
    "# Create a union of the spam/ham corpus tokens\n",
    "known_words = list(set(spam_word_count.keys()) | set(ham_word_count.keys()))\n",
    "\n",
    "# Initialize a dictionary for word spam probabilities\n",
    "spam_probability = {}\n",
    "\n",
    "for word in known_words:\n",
    "    g = 2 * (0 if word not in ham_word_count else ham_word_count[word])\n",
    "    b = 0 if word not in spam_word_count else spam_word_count[word]\n",
    "    if g+b > 1:\n",
    "        spam_probability[word] = max(0.01,\n",
    "                                     min(0.99, min(1.0, b/nbad) / (min(1.0, g / ngood) + min(1.0, b/nbad))))\n",
    "    \n",
    "    # You don't want this else statement because if you have it, any word that doesn't\n",
    "    # cross the threshold causes the whole message to have a 0 probability of being spam.\n",
    "    # This would mean that magic words that weren't over the threshold would trick the spam filter,\n",
    "    \n",
    "    # else:\n",
    "    #    spam_probability[word] = 0"
   ]
  },
  {
   "cell_type": "heading",
   "metadata": {},
   "level": 1,
   "source": [
    "The resulting probability table can be seen below:"
   ]
  },
  {
   "cell_type": "code",
   "execution_count": 19,
   "metadata": {},
   "outputs": [
    {
     "name": "stdout",
     "output_type": "stream",
     "text": [
      "{'eggs': 0.01, 'do': 0.3333333333333333, 'ham': 0.01, 'i': 0.01, 'spam': 0.99, 'am': 0.99, 'and': 0.01, 'green': 0.01, 'I': 0.99, 'like': 0.3333333333333333}\n"
     ]
    }
   ],
   "source": [
    "print(spam_probability)"
   ]
  },
  {
   "cell_type": "heading",
   "metadata": {},
   "level": 1,
   "source": [
    "Now I will create two test messages and see if the system believes they are spam:"
   ]
  },
  {
   "cell_type": "code",
   "execution_count": 20,
   "metadata": {},
   "outputs": [
    {
     "name": "stdout",
     "output_type": "stream",
     "text": [
      "5.2051017513329894e-09\n0.99\n"
     ]
    }
   ],
   "source": [
    "def probability_is_spam(message, spam_prob_table):\n",
    "    tokens = message.split(' ')\n",
    "    probabilities = [spam_prob_table[word] for word in tokens if word in spam_prob_table]\n",
    "\n",
    "    prod = 1\n",
    "    compliment_prod = 1\n",
    "    for prob in probabilities:\n",
    "        prod *= prob\n",
    "        compliment_prod *= (1 - prob)\n",
    "        \n",
    "    return prod / (prod + compliment_prod)\n",
    "\n",
    "\n",
    "ham_message = \"i am not spam because i like green eggs and ham\"\n",
    "print(probability_is_spam(ham_message, spam_probability))\n",
    "\n",
    "spam_message = \"i am spam not spamiam\"\n",
    "print(probability_is_spam(spam_message, spam_probability))"
   ]
  },
  {
   "cell_type": "heading",
   "metadata": {},
   "level": 1,
   "source": [
    "This is a bayesian approach to spam because a simple bayesian network is formed for each word when calculating the probability that it is a word found in spam. For each word we try to calculate P(word), that is, the probability that the word is spam. The word node in the network is dependedent on two other nodes: the spam node and the ham node. Each node has an associated probability of happening. The spam node is the likelihood that any word is part of a spam message. The ham node is the likelihood that any word is part of a safe message. The P(word) calculation is done similarly to a calculation as if that bayesian network was formed."
   ]
  },
  {
   "cell_type": "heading",
   "metadata": {},
   "level": 1,
   "source": [
    "Exercise 2: Bayesian Network"
   ]
  },
  {
   "cell_type": "heading",
   "metadata": {},
   "level": 1,
   "source": [
    "a. Below is the network"
   ]
  },
  {
   "cell_type": "code",
   "execution_count": 21,
   "metadata": {},
   "outputs": [],
   "source": [
    "from probability import BayesNet, enumeration_ask\n",
    "\n",
    "# Utility variables\n",
    "T, F = True, False\n",
    "\n",
    "grass = BayesNet([\n",
    "    ('Cloudy', '', 0.5),\n",
    "    ('Sprinkler', 'Cloudy', {T: 0.1, F: 0.5}),    \n",
    "    ('Rain', 'Cloudy', {T: 0.8, F: 0.2}),\n",
    "    ('WetGrass', 'Sprinkler Rain', {(T, T): 0.99, (T, F): 0.90,\n",
    "                                    (F, T): 0.90, (F, F): 0.00})\n",
    "\n",
    "])"
   ]
  },
  {
   "cell_type": "heading",
   "metadata": {},
   "level": 1,
   "source": [
    "b. The number of values in the full joint probability distribution would be 2^4, so, 16 values."
   ]
  },
  {
   "cell_type": "heading",
   "metadata": {},
   "level": 1,
   "source": [
    "c. The number of independent values in the bayesian network can be seen to be 1, because all other values other than cloudy are dependent on other factors."
   ]
  },
  {
   "cell_type": "heading",
   "metadata": {},
   "level": 1,
   "source": [
    "d. Below are probabilities calculated using this network, by hand and in code."
   ]
  },
  {
   "cell_type": "code",
   "execution_count": 4,
   "metadata": {},
   "outputs": [
    {
     "name": "stdout",
     "output_type": "stream",
     "text": [
      "False: 0.5, True: 0.5\n"
     ]
    }
   ],
   "source": [
    "# P(Cloudy) = 0.5, it is given so a calculation by hand is not needed\n",
    "print(enumeration_ask('Cloudy', dict({}), grass).show_approx())"
   ]
  },
  {
   "cell_type": "code",
   "execution_count": 6,
   "metadata": {},
   "outputs": [
    {
     "name": "stdout",
     "output_type": "stream",
     "text": [
      "False: 0.9, True: 0.1\n"
     ]
    }
   ],
   "source": [
    "# P(Sprinkler | Cloudy) = 0.1, it is given\n",
    "print(enumeration_ask('Sprinkler', dict(Cloudy=T), grass).show_approx())"
   ]
  },
  {
   "cell_type": "code",
   "execution_count": 23,
   "metadata": {},
   "outputs": [
    {
     "name": "stdout",
     "output_type": "stream",
     "text": [
      "False: 0.952, True: 0.0476\n"
     ]
    }
   ],
   "source": [
    "# P(Cloudy | Sprinkler ^ Rain)\n",
    "# = alpha * <P(Cloudy) * P(Sprinkler | Cloudy) * P(-Rain | Cloudy),\n",
    "#            P(-Cloudy) * P(Sprinkler | -Cloudy) * P(-Rain | -Cloudy)>\n",
    "# = alpha * <0.5 * 0.1 * 0.2, 0.5 * 0.5 * 0.8>\n",
    "# = alpha * <0.01, 0.2>\n",
    "# = <0.0476,0.952>\n",
    "print(enumeration_ask('Cloudy', dict(Sprinkler=T, Rain=F), grass).show_approx())"
   ]
  },
  {
   "cell_type": "code",
   "execution_count": 25,
   "metadata": {},
   "outputs": [
    {
     "name": "stdout",
     "output_type": "stream",
     "text": [
      "False: 0.01, True: 0.99\n"
     ]
    }
   ],
   "source": [
    "# P(WetGrass | Cloudy ^ Sprinkler ^ Rain)\n",
    "# = alpha * P(Rain | Cloudy) * P(Sprinkler | Cloudy) * <P(WG | Sprinkler ^ Rain),\n",
    "#                                                       P(-WG | Sprinkler ^ Rain)>\n",
    "# = alpha * 0.8 * 0.1 * <0.99,0.01>\n",
    "# = <0.99,0.01>\n",
    "print(enumeration_ask('WetGrass', dict(Cloudy=T, Sprinkler=T, Rain=T), grass).show_approx())"
   ]
  },
  {
   "cell_type": "code",
   "execution_count": 19,
   "metadata": {},
   "outputs": [
    {
     "name": "stdout",
     "output_type": "stream",
     "text": [
      "False: 0.639, True: 0.361\n"
     ]
    }
   ],
   "source": [
    "# P(Cloudy | -WetGrass)\n",
    "# = alpha * <P(Cloudy) * P(-WetGrass | Sprinkler ^ Rain) * P(Rain | Cloudy) * P(Sprinkler | Cloudy)\n",
    "#          + P(Cloudy) * P(-WetGrass | Sprinkler ^ -Rain) * P(-Rain | Cloudy) * P(Sprinkler | Cloudy)\n",
    "#          + P(Cloudy) * P(-WetGrass | -Sprinkler ^ Rain) * P(Rain | Cloudy) * P(-Sprinkler | Cloudy)\n",
    "#          + P(Cloudy) * P(-WetGrass | -Sprinkler ^ -Rain) * P(-Rain | Cloudy) * P(-Sprinkler | Cloudy),\n",
    "\n",
    "#            P(-Cloudy) * P(-WetGrass | Sprinkler ^ Rain) * P(Rain | -Cloudy) * P(Sprinkler | -Cloudy)\n",
    "#          + P(-Cloudy) * P(-WetGrass | Sprinkler ^ -Rain) * P(-Rain | -Cloudy) * P(Sprinkler | -Cloudy)\n",
    "#          + P(-Cloudy) * P(-WetGrass | -Sprinkler ^ Rain) * P(Rain | -Cloudy) * P(-Sprinkler | -Cloudy)\n",
    "#          + P(-Cloudy) * P(-WetGrass | -Sprinkler ^ -Rain) * P(-Rain | -Cloudy) * P(-Sprinkler | -Cloudy)>\n",
    "\n",
    "# = alpha * <(0.5 * 0.01 * 0.8 * 0.1) + (0.5 * 0.1 *0.2 * 0.1) + (0.5 * 0.1 * 0.8 * 0.9) + (0.5 * 1 * 0.2 * 0.9),\n",
    "#            (0.5 * 0.01 * 0.2 * 0.5) + (0.5 * 0.1 *0.8 * 0.5) + (0.5 * 0.1 * 0.2 * 0.5) + (0.5 * 1 * 0.8 * 0.5),\n",
    "# = alpha * <0.1274, 0.2255>\n",
    "# = <0.361, 0.639>\n",
    "print(enumeration_ask('Cloudy', dict(WetGrass=F), grass).show_approx())"
   ]
  }
 ],
 "metadata": {
  "kernelspec": {
   "display_name": "Python 2",
   "language": "python",
   "name": "python2"
  },
  "language_info": {
   "codemirror_mode": {
    "name": "ipython",
    "version": 2
   },
   "file_extension": ".py",
   "mimetype": "text/x-python",
   "name": "python",
   "nbconvert_exporter": "python",
   "pygments_lexer": "ipython2",
   "version": "2.7.6"
  }
 },
 "nbformat": 4,
 "nbformat_minor": 0
}
