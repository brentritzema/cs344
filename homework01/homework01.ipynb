{
 "cells": [
  {
   "cell_type": "heading",
   "metadata": {
    "collapsed": true
   },
   "level": 1,
   "source": [
    "Homework 01"
   ]
  },
  {
   "cell_type": "heading",
   "metadata": {},
   "level": 2,
   "source": [
    "Question 1:"
   ]
  },
  {
   "cell_type": "heading",
   "metadata": {},
   "level": 6,
   "source": [
    "I believe using introspection to inform efforts in AI to model human cognitive processes would be a very wise idea. Without introspection the alternative would be to just use the structure of neurons and their neurochemical reactions to try to recreate the human cognitive process. Many would say it's not even possible to recreate the human cognitive process completely because it can't be reduced to just structures and reactions, a.k.a. a purely physical process. Either way, introspection would be a very useful insight and not using it to at least inform, even partially, decisions about how to model AI after the human cognitive process would be unwise. If extra information is given to solve a problem, it would be prudent to use it."
   ]
  },
  {
   "cell_type": "heading",
   "metadata": {},
   "level": 2,
   "source": [
    "Question 2:"
   ]
  },
  {
   "cell_type": "heading",
   "metadata": {},
   "level": 6,
   "source": [
    "1. My initial state and states throughout are complete state formulations. My actions at each step are a random set of permutations to the previous state. The reasoning behind this was that there was no clear single \"set of actions\" with a complete state formulation. Possibilities included an arbitrarily chosen set of permutations (which I chose), a set of possible single-step immediate neighbor swaps, or all possible permutations.\n"
   ]
  },
  {
   "cell_type": "heading",
   "metadata": {},
   "level": 3,
   "source": [
    "Here is my fomulation:"
   ]
  },
  {
   "cell_type": "code",
   "execution_count": 5,
   "metadata": {},
   "outputs": [],
   "source": [
    "from search import Problem, hill_climbing, simulated_annealing, \\\n",
    "    exp_schedule\n",
    "from random import randrange\n",
    "import itertools\n",
    "\n",
    "\n",
    "class TSPVariant(Problem):\n",
    "    def __init__(self, initial):\n",
    "        \"\"\"Takes the inital path and calculates how many cities it needs to visit\"\"\"\n",
    "        self.n = len(initial)\n",
    "        self.initial = initial\n",
    "\n",
    "    def actions(self, state):\n",
    "        \"\"\"Actions move the salesman to a city he hasn't been to before, if none exist,\n",
    "           he returns home. Distance is added for each move. I won't swap the start and end A's\n",
    "           because the distance should be the same no matter which city you start with since\n",
    "           all the cities are interconnected.\n",
    "        \"\"\"\n",
    "        actions = []\n",
    "        # only swap the inner cities, not the outer cities because it reduces the search space and which city\n",
    "        # you start at doesn't effect the problem since all cities are interconnected\n",
    "        for permutation in range(1, 10):\n",
    "            i = randrange(1, self.n-1)\n",
    "            j = randrange(1, self.n-1)\n",
    "            new_state = state[:]\n",
    "            new_state[i], new_state[j] = new_state[j], new_state[i]\n",
    "            actions.append(new_state)\n",
    "        return actions\n",
    "\n",
    "    def result(self, state, action):\n",
    "        \"\"\"Makes the given move on a copy of the given state.\"\"\"\n",
    "        return action\n",
    "\n",
    "    def goal_test(self, state):\n",
    "        \"\"\"Check to see if there are no conflicts.\"\"\"\n",
    "        return not self.conflicted(state)\n",
    "\n",
    "    def conflicted(self, state):\n",
    "        # check if the beginning and end match\n",
    "        if state[0] != state[len(state)-1]:\n",
    "            return True\n",
    "\n",
    "        # check if the state ended as the right length\n",
    "        if len(state) != self.n:\n",
    "            return True\n",
    "\n",
    "        # check if the city has already been seen\n",
    "        visited = []\n",
    "        for city in self.initial:\n",
    "            if city in visited and city != self.initial[0]:\n",
    "                return True\n",
    "            visited.append(city)\n",
    "            if city not in state:\n",
    "                return True\n",
    "\n",
    "        return False\n",
    "\n",
    "    def value(self, state):\n",
    "        \"\"\"This method computes a value of given state based on the connection distances between cities.\n",
    "        \"\"\"\n",
    "\n",
    "        value = 0\n",
    "        for i in range(0, self.n-1):\n",
    "            value -= connections[(state[i], state[i+1])]\n",
    "\n",
    "        return value"
   ]
  },
  {
   "cell_type": "heading",
   "metadata": {},
   "level": 3,
   "source": [
    "Here is my code to randomly generate cities and distances between them, along with a simple example commented out, and code to find a solution."
   ]
  },
  {
   "cell_type": "code",
   "execution_count": 6,
   "metadata": {},
   "outputs": [
    {
     "name": "stdout",
     "output_type": "stream",
     "text": [
      "Initial: \n\tPath:  ['City0', 'City1', 'City2', 'City3', 'City4', 'City5', 'City6', 'City7', 'City8', 'City9', 'City10', 'City11', 'City12', 'City13', 'City14', 'City15', 'City16', 'City17', 'City18', 'City19', 'City20', 'City21', 'City22', 'City23', 'City24', 'City25', 'City26', 'City27', 'City28', 'City29', 'City30', 'City31', 'City32', 'City33', 'City34', 'City35', 'City36', 'City37', 'City38', 'City39', 'City40', 'City41', 'City42', 'City43', 'City44', 'City45', 'City46', 'City47', 'City48', 'City49', 'City0']\n\tValue: 2783\nHill-climbing:\n\tSolution: ['City0', 'City1', 'City18', 'City5', 'City4', 'City3', 'City6', 'City7', 'City10', 'City29', 'City8', 'City11', 'City22', 'City40', 'City14', 'City15', 'City16', 'City47', 'City2', 'City19', 'City28', 'City43', 'City12', 'City23', 'City24', 'City38', 'City25', 'City27', 'City20', 'City9', 'City17', 'City31', 'City32', 'City33', 'City42', 'City35', 'City36', 'City37', 'City26', 'City39', 'City13', 'City41', 'City34', 'City49', 'City44', 'City45', 'City46', 'City30', 'City48', 'City21', 'City0']\n\tValue:    1657\n\tGoal?     True\n"
     ]
    },
    {
     "name": "stdout",
     "output_type": "stream",
     "text": [
      "Simulated annealing:\n\tSolution: ['City0', 'City24', 'City32', 'City41', 'City2', 'City31', 'City7', 'City10', 'City21', 'City46', 'City26', 'City44', 'City40', 'City1', 'City12', 'City8', 'City16', 'City47', 'City30', 'City13', 'City20', 'City23', 'City34', 'City29', 'City17', 'City25', 'City3', 'City19', 'City38', 'City15', 'City27', 'City14', 'City4', 'City43', 'City9', 'City48', 'City18', 'City36', 'City37', 'City35', 'City6', 'City49', 'City11', 'City28', 'City33', 'City45', 'City39', 'City5', 'City42', 'City22', 'City0']\n\tValue:    523\n\tGoal?     True\n"
     ]
    }
   ],
   "source": [
    "if __name__ == '__main__':\n",
    "\n",
    "    n = 50\n",
    "    cities = []\n",
    "    for i in range(0, n):\n",
    "        cities.append(\"City\" + str(i))\n",
    "\n",
    "    connections = {}\n",
    "    for permutation in list(itertools.permutations(cities, 2)):\n",
    "        # doubling the amount of work I actually need to do to make things symmetrical\n",
    "        # because this is the easiest way I can think of doing it\n",
    "        distance = randrange(1, 100)\n",
    "        connections[(permutation[1], permutation[0])] = distance\n",
    "        connections[permutation] = distance\n",
    "\n",
    "    initial = cities[:]\n",
    "    initial.append(cities[0])\n",
    "\n",
    "    # start and end must be the same, no city must appear twice except for the start and end point\n",
    "    # initial = [\"A\", \"B\", \"C\", \"D\", \"E\", \"A\"]\n",
    "    # connections = {\n",
    "    #     (\"A\", \"B\"): 5,\n",
    "    #     (\"A\", \"C\"): 100,\n",
    "    #     (\"A\", \"D\"): 15,\n",
    "    #     (\"A\", \"E\"): 25,\n",
    "    #     (\"B\", \"C\"): 2,\n",
    "    #     (\"B\", \"D\"): 10,\n",
    "    #     (\"B\", \"E\"): 15,\n",
    "    #     (\"C\", \"D\"): 7,\n",
    "    #     (\"C\", \"E\"): 10,\n",
    "    #     (\"D\", \"E\"): 13\n",
    "    # }\n",
    "    # symmetrical_connections = {}\n",
    "    # for path in connections.keys():\n",
    "    #     symmetrical_connections[path[1], path[0]] = connections[path];\n",
    "    #\n",
    "    # connections.update(symmetrical_connections)\n",
    "\n",
    "    # Formulate a problem with a 2D hill function and a single maximum value.\n",
    "    p = TSPVariant(initial)\n",
    "    print('Initial: ')\n",
    "    print('\\tPath:  ' + str(initial))\n",
    "    print('\\tValue: ' + str(-1*p.value(initial)))\n",
    "\n",
    "    # # Solve the problem using hill-climbing.\n",
    "    # Solve the problem using hill climbing.\n",
    "    hill_solution = hill_climbing(p)\n",
    "    print('Hill-climbing:')\n",
    "    print('\\tSolution: ' + str(hill_solution))\n",
    "    print('\\tValue:    ' + str(-1*p.value(hill_solution)))\n",
    "    print('\\tGoal?     ' + str(p.goal_test(hill_solution)))\n",
    "\n",
    "    # Solve the problem using simulated annealing.\n",
    "    annealing_solution = simulated_annealing(\n",
    "        p,\n",
    "        exp_schedule(k=20, lam=0.005, limit=10000)\n",
    "    )\n",
    "    print('Simulated annealing:')\n",
    "    print('\\tSolution: ' + str(annealing_solution))\n",
    "    print('\\tValue:    ' + str(-1*p.value(annealing_solution)))\n",
    "    print('\\tGoal?     ' + str(p.goal_test(annealing_solution)))"
   ]
  },
  {
   "cell_type": "heading",
   "metadata": {},
   "level": 6,
   "source": [
    "Simulated annealing works better because local maximums in this problem are extremely common and simulated annealing is much more likely to find another local maximum (and possibly a global maximum) that produces a shorter path than hill climbing."
   ]
  },
  {
   "cell_type": "heading",
   "metadata": {},
   "level": 2,
   "source": [
    "Question 3:"
   ]
  },
  {
   "cell_type": "heading",
   "metadata": {},
   "level": 6,
   "source": [
    "I chose to formulate the problem in this way:"
   ]
  },
  {
   "cell_type": "code",
   "execution_count": 2,
   "metadata": {},
   "outputs": [],
   "source": [
    "from csp import CSP, backtracking_search, min_conflicts, mrv, \\\n",
    "    forward_checking, AC3\n",
    "from search import depth_first_graph_search\n",
    "import itertools\n",
    "\n",
    "\n",
    "def ClassSchedulingCSP():\n",
    "    \"\"\"Queens problem for the class scheduling problem. I've used the classes as the variables\n",
    "    and combinations of time, professor, and classroom as the domains for each variable. The\n",
    "    constraints are that no prof can teach two classes at the same time, no class can be in the\n",
    "    same room at the same time as another class, and each course should be offered exactly once.\n",
    "    \"\"\"\n",
    "\n",
    "    \"\"\"Initialize data structures for the class scheduling problem.\"\"\"\n",
    "    classes = ['CS108', 'CS112', 'CS214', 'CS212', 'CS232', 'CS344']\n",
    "    faculty = ['dschuurman', 'kvlinden', 'adams', 'norman']\n",
    "    time_slots = ['mwf900', 'mwf1030', 'tth900', 'tth1030']\n",
    "    classrooms = ['nh253', 'sb382']\n",
    "    combination = [faculty, time_slots, classrooms]\n",
    "\n",
    "    variables = classes\n",
    "    domain = list(itertools.product(*combination))\n",
    "    domains = {}\n",
    "    neighbors = {}\n",
    "    for var in variables:\n",
    "        domains[var] = domain\n",
    "        neighbors[var] = [x for x in variables if x != var]\n",
    "\n",
    "    def constraints(A, a, B, b):\n",
    "        # check if it's the same time\n",
    "        if a[1] == b[1]:\n",
    "            # check if profs are the same\n",
    "            if a[0] == b[0]:\n",
    "                return False\n",
    "            # check if rooms are the same\n",
    "            elif a[2] == b[2]:\n",
    "                return False\n",
    "            else:\n",
    "                return True\n",
    "        else:\n",
    "            return True\n",
    "\n",
    "    return CSP(variables, domains, neighbors, constraints)"
   ]
  },
  {
   "cell_type": "heading",
   "metadata": {},
   "level": 6,
   "source": [
    "I chose to formulate it in this way because the classes are the only things that there can be no duplicates of, so they are perfect for the variables. The domain for each variable is just all combinations of faculty, time_slots, and classrooms. Neighbors to each variable are all other variables. The constraint function first checks if the two variables have the same time, and if they do it makes sure the prof and room aren't the same."
   ]
  },
  {
   "cell_type": "heading",
   "metadata": {},
   "level": 6,
   "source": [
    "Here is the solution in action:"
   ]
  },
  {
   "cell_type": "code",
   "execution_count": 4,
   "metadata": {},
   "outputs": [
    {
     "name": "stdout",
     "output_type": "stream",
     "text": [
      "Solution:\n{'CS214': ('dschuurman', 'tth900', 'sb382'), 'CS108': ('dschuurman', 'tth1030', 'nh253'), 'CS232': ('kvlinden', 'tth900', 'nh253'), 'CS112': ('adams', 'mwf900', 'sb382'), 'CS344': ('norman', 'mwf1030', 'sb382'), 'CS212': ('adams', 'tth1030', 'sb382')}\n"
     ]
    }
   ],
   "source": [
    "# 1. Set up the problem.\n",
    "problem = ClassSchedulingCSP()\n",
    "\n",
    "# 2. Solve the problem.\n",
    "\n",
    "# solution = AC3(problem);\n",
    "# solution = backtracking_search(problem)\n",
    "solution = min_conflicts(problem)\n",
    "\n",
    "# 3. Print the results.\n",
    "# Handle AC3 solutions (boolean values) first, they behave differently.\n",
    "if type(solution) is bool:\n",
    "    if solution and problem.goal_test(problem.infer_assignment()):\n",
    "        print('AC3 Solution:')\n",
    "    else:\n",
    "        print('AC Failure:')\n",
    "    print(problem.curr_domains)\n",
    "\n",
    "# Handle other solutions next.\n",
    "elif solution != None and problem.goal_test(solution):\n",
    "    print('Solution:')\n",
    "    print(solution)\n",
    "#    problem.display(problem.infer_assignment())\n",
    "else:\n",
    "    print('Failed - domains: ' + str(problem.curr_domains))\n",
    "    problem.display(problem.infer_assignment())"
   ]
  },
  {
   "cell_type": "code",
   "execution_count": null,
   "metadata": {},
   "outputs": [],
   "source": []
  }
 ],
 "metadata": {
  "kernelspec": {
   "display_name": "Python 2",
   "language": "python",
   "name": "python2"
  },
  "language_info": {
   "codemirror_mode": {
    "name": "ipython",
    "version": 2
   },
   "file_extension": ".py",
   "mimetype": "text/x-python",
   "name": "python",
   "nbconvert_exporter": "python",
   "pygments_lexer": "ipython2",
   "version": "2.7.6"
  }
 },
 "nbformat": 4,
 "nbformat_minor": 0
}
