{
 "cells": [
  {
   "cell_type": "heading",
   "metadata": {
    "collapsed": true
   },
   "level": 1,
   "source": [
    "Homework 01"
   ]
  },
  {
   "cell_type": "heading",
   "metadata": {},
   "level": 2,
   "source": [
    "Question 1:"
   ]
  },
  {
   "cell_type": "markdown",
   "metadata": {},
   "source": []
  },
  {
   "cell_type": "heading",
   "metadata": {},
   "level": 2,
   "source": [
    "Question 2:"
   ]
  },
  {
   "cell_type": "heading",
   "metadata": {},
   "level": 6,
   "source": [
    "1. My initial state and states throughout are complete state formulations. My actions at each step are a random set of permutations to the previous state. The reasoning behind this was that there was no clear single \"set of actions\" with a complete state formulation. Possibilities included an arbitrarily chosen set of permutations (which I chose), a set of possible single-step immediate neighbor swaps, or all possible permutations.\n"
   ]
  },
  {
   "cell_type": "heading",
   "metadata": {},
   "level": 3,
   "source": [
    "Here is my fomulation:"
   ]
  },
  {
   "cell_type": "code",
   "execution_count": 4,
   "metadata": {},
   "outputs": [],
   "source": [
    "from search import Problem, hill_climbing, simulated_annealing, \\\n",
    "    exp_schedule\n",
    "from random import randrange\n",
    "import itertools\n",
    "\n",
    "class TSPVariant(Problem):\n",
    "    def __init__(self, initial):\n",
    "        \"\"\"Takes the inital path and calculates how many cities it needs to visit\"\"\"\n",
    "        self.n = len(initial)\n",
    "        self.initial = initial\n",
    "\n",
    "    def actions(self, state):\n",
    "        \"\"\"Actions move the salesman to a city he hasn't been to before, if none exist,\n",
    "           he returns home. Distance is added for each move. I won't swap the start and end A's\n",
    "           because the distance should be the same no matter which city you start with since\n",
    "           all the cities are interconnected.\n",
    "        \"\"\"\n",
    "        actions = []\n",
    "        # only swap the inner cities, not the outer cities because it reduces the search space and which city\n",
    "        # you start at doesn't effect the problem since all cities are interconnected\n",
    "        inner_cities = initial[1:self.n-1]\n",
    "        for permutation in range(1, 10):\n",
    "            i = randrange(1, self.n-1)\n",
    "            j = randrange(1, self.n-1)\n",
    "            new_state = state[:]\n",
    "            new_state[i], new_state[j] = new_state[j], new_state[i]\n",
    "            actions.append(new_state)\n",
    "        return actions\n",
    "\n",
    "    def result(self, state, action):\n",
    "        \"\"\"Makes the given move on a copy of the given state.\"\"\"\n",
    "        return action\n",
    "\n",
    "    def goal_test(self, state):\n",
    "        \"\"\"Check to see if there are no conflicts.\"\"\"\n",
    "        return not self.conflicted(state)\n",
    "\n",
    "    def conflicted(self, state):\n",
    "        # check if the beginning and end match\n",
    "        if state[0] != state[len(state)-1]:\n",
    "            return True\n",
    "\n",
    "        # check if the state ended as the right length\n",
    "        if len(state) != self.n:\n",
    "            return True\n",
    "\n",
    "        # check if the city has already been seen\n",
    "        visited = []\n",
    "        for city in self.initial:\n",
    "            if city in visited and city != self.initial[0]:\n",
    "                return True\n",
    "            visited.append(city)\n",
    "            if city not in state:\n",
    "                return True\n",
    "\n",
    "        return False\n",
    "\n",
    "    def value(self, state):\n",
    "        \"\"\"This method computes a value of given state based on the connection distances between cities.\n",
    "        \"\"\"\n",
    "\n",
    "        value = 0\n",
    "        for i in range(0, self.n-1):\n",
    "            value -= connections[(state[i], state[i+1])]\n",
    "\n",
    "        return value"
   ]
  },
  {
   "cell_type": "heading",
   "metadata": {},
   "level": 3,
   "source": [
    "Here is my code to randomly generate cities and distances between them, along with a simple example commented out, and code to find a solution."
   ]
  },
  {
   "cell_type": "code",
   "execution_count": 6,
   "metadata": {},
   "outputs": [
    {
     "name": "stdout",
     "output_type": "stream",
     "text": [
      "Initial: \n\tPath:  ['City0', 'City1', 'City2', 'City3', 'City4', 'City5', 'City6', 'City7', 'City8', 'City9', 'City10', 'City11', 'City12', 'City13', 'City14', 'City15', 'City16', 'City17', 'City18', 'City19', 'City20', 'City21', 'City22', 'City23', 'City24', 'City25', 'City26', 'City27', 'City28', 'City29', 'City30', 'City31', 'City32', 'City33', 'City34', 'City35', 'City36', 'City37', 'City38', 'City39', 'City40', 'City41', 'City42', 'City43', 'City44', 'City45', 'City46', 'City47', 'City48', 'City49', 'City0']\n\tValue: 2588\nHill-climbing:\n\tSolution: ['City0', 'City1', 'City2', 'City3', 'City4', 'City5', 'City47', 'City7', 'City10', 'City9', 'City8', 'City11', 'City20', 'City13', 'City35', 'City15', 'City16', 'City17', 'City18', 'City19', 'City23', 'City21', 'City22', 'City12', 'City24', 'City25', 'City40', 'City27', 'City39', 'City43', 'City30', 'City31', 'City28', 'City33', 'City34', 'City14', 'City36', 'City37', 'City38', 'City32', 'City26', 'City41', 'City42', 'City29', 'City44', 'City45', 'City46', 'City6', 'City48', 'City49', 'City0']\n\tValue:    1631\n\tGoal?     True\n"
     ]
    },
    {
     "name": "stdout",
     "output_type": "stream",
     "text": [
      "Simulated annealing:\n\tSolution: ['City0', 'City39', 'City27', 'City30', 'City4', 'City5', 'City23', 'City2', 'City33', 'City15', 'City24', 'City49', 'City38', 'City44', 'City47', 'City26', 'City11', 'City3', 'City10', 'City20', 'City25', 'City41', 'City8', 'City7', 'City28', 'City16', 'City17', 'City32', 'City46', 'City48', 'City13', 'City19', 'City12', 'City45', 'City34', 'City42', 'City6', 'City9', 'City22', 'City18', 'City35', 'City29', 'City21', 'City31', 'City40', 'City43', 'City36', 'City14', 'City1', 'City37', 'City0']\n\tValue:    595\n\tGoal?     True\n"
     ]
    }
   ],
   "source": [
    "if __name__ == '__main__':\n",
    "\n",
    "    n = 50\n",
    "    cities = []\n",
    "    for i in range(0, n):\n",
    "        cities.append(\"City\" + str(i))\n",
    "\n",
    "    connections = {}\n",
    "    for permutation in list(itertools.permutations(cities, 2)):\n",
    "        connections[permutation] = randrange(1, 100)\n",
    "\n",
    "    initial = cities[:]\n",
    "    initial.append(cities[0])\n",
    "\n",
    "    # start and end must be the same, no city must appear twice except for the start and end point\n",
    "    # initial = [\"A\", \"B\", \"C\", \"D\", \"E\", \"A\"]\n",
    "    # connections = {\n",
    "    #     (\"A\", \"B\"): 5,\n",
    "    #     (\"A\", \"C\"): 100,\n",
    "    #     (\"A\", \"D\"): 15,\n",
    "    #     (\"A\", \"E\"): 25,\n",
    "    #     (\"B\", \"C\"): 2,\n",
    "    #     (\"B\", \"D\"): 10,\n",
    "    #     (\"B\", \"E\"): 15,\n",
    "    #     (\"C\", \"D\"): 7,\n",
    "    #     (\"C\", \"E\"): 10,\n",
    "    #     (\"D\", \"E\"): 13\n",
    "    # }\n",
    "    # symmetrical_connections = {}\n",
    "    # for path in connections.keys():\n",
    "    #     symmetrical_connections[path[1], path[0]] = connections[path];\n",
    "    #\n",
    "    # connections.update(symmetrical_connections)\n",
    "\n",
    "    # Formulate a problem with a 2D hill function and a single maximum value.\n",
    "    p = TSPVariant(initial)\n",
    "    print('Initial: ')\n",
    "    print('\\tPath:  ' + str(initial))\n",
    "    print('\\tValue: ' + str(-1*p.value(initial)))\n",
    "\n",
    "    # # Solve the problem using hill-climbing.\n",
    "    # Solve the problem using hill climbing.\n",
    "    hill_solution = hill_climbing(p)\n",
    "    print('Hill-climbing:')if __name__ == '__main__':\n",
    "\n",
    "    n = 1000\n",
    "    cities = []\n",
    "    for i in range(0, n):\n",
    "        cities.append(\"City\" + str(i))\n",
    "\n",
    "    connections = {}\n",
    "    for permutation in list(itertools.permutations(cities, 2)):\n",
    "        connections[permutation] = randrange(1, 100)\n",
    "\n",
    "    initial = cities[:]\n",
    "    initial.append(cities[0])\n",
    "\n",
    "    # start and end must be the same, no city must appear twice except for the start and end point\n",
    "    # initial = [\"A\", \"B\", \"C\", \"D\", \"E\", \"A\"]\n",
    "    # connections = {\n",
    "    #     (\"A\", \"B\"): 5,\n",
    "    #     (\"A\", \"C\"): 100,\n",
    "    #     (\"A\", \"D\"): 15,\n",
    "    #     (\"A\", \"E\"): 25,\n",
    "    #     (\"B\", \"C\"): 2,\n",
    "    #     (\"B\", \"D\"): 10,\n",
    "    #     (\"B\", \"E\"): 15,\n",
    "    #     (\"C\", \"D\"): 7,\n",
    "    #     (\"C\", \"E\"): 10,\n",
    "    #     (\"D\", \"E\"): 13\n",
    "    # }\n",
    "    # symmetrical_connections = {}\n",
    "    # for path in connections.keys():\n",
    "    #     symmetrical_connections[path[1], path[0]] = connections[path];\n",
    "    #\n",
    "    # connections.update(symmetrical_connections)\n",
    "\n",
    "    # Formulate a problem with a 2D hill function and a single maximum value.\n",
    "    p = TSPVariant(initial)\n",
    "    print('Initial: ')\n",
    "    print('\\tPath:  ' + str(initial))\n",
    "    print('\\tValue: ' + str(-1*p.value(initial)))\n",
    "\n",
    "    # # Solve the problem using hill-climbing.\n",
    "    # Solve the problem using hill climbing.\n",
    "    hill_solution = hill_climbing(p)\n",
    "    print('Hill-climbing:')\n",
    "    print('\\tSolution: ' + str(hill_solution))\n",
    "    print('\\tValue:    ' + str(-1*p.value(hill_solution)))\n",
    "    print('\\tGoal?     ' + str(p.goal_test(hill_solution)))\n",
    "\n",
    "    # Solve the problem using simulated annealing.\n",
    "    annealing_solution = simulated_annealing(\n",
    "        p,\n",
    "        exp_schedule(k=20, lam=0.005, limit=10000)\n",
    "    )\n",
    "    print('Simulated annealing:')\n",
    "    print('\\tSolution: ' + str(annealing_solution))\n",
    "    print('\\tValue:    ' + str(-1*p.value(annealing_solution)))\n",
    "    print('\\tGoal?     ' + str(p.goal_test(annealing_solution)))\n",
    "    print('\\tSolution: ' + str(hill_solution))\n",
    "    print('\\tValue:    ' + str(-1*p.value(hill_solution)))\n",
    "    print('\\tGoal?     ' + str(p.goal_test(hill_solution)))\n",
    "\n",
    "    # Solve the problem using simulated annealing.\n",
    "    annealing_solution = simulated_annealing(\n",
    "        p,\n",
    "        exp_schedule(k=20, lam=0.005, limit=10000)\n",
    "    )\n",
    "    print('Simulated annealing:')\n",
    "    print('\\tSolution: ' + str(annealing_solution))\n",
    "    print('\\tValue:    ' + str(-1*p.value(annealing_solution)))\n",
    "    print('\\tGoal?     ' + str(p.goal_test(annealing_solution)))"
   ]
  },
  {
   "cell_type": "heading",
   "metadata": {},
   "level": 6,
   "source": [
    "Simulated annealing works better because local maximums in this problem are extremely common and simulated annealing is much more likely to find another local maximum that is a shorter path than hill climbing."
   ]
  },
  {
   "cell_type": "heading",
   "metadata": {},
   "level": 2,
   "source": [
    "Question 3:"
   ]
  },
  {
   "cell_type": "code",
   "execution_count": null,
   "metadata": {},
   "outputs": [],
   "source": []
  }
 ],
 "metadata": {
  "kernelspec": {
   "display_name": "Python 2",
   "language": "python",
   "name": "python2"
  },
  "language_info": {
   "codemirror_mode": {
    "name": "ipython",
    "version": 2
   },
   "file_extension": ".py",
   "mimetype": "text/x-python",
   "name": "python",
   "nbconvert_exporter": "python",
   "pygments_lexer": "ipython2",
   "version": "2.7.6"
  }
 },
 "nbformat": 4,
 "nbformat_minor": 0
}
